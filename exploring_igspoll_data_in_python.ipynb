{
 "cells": [
  {
   "cell_type": "markdown",
   "metadata": {},
   "source": [
    "# Exploring IGS Poll Data in Python\n",
    "<pre>\n",
    "</pre>\n",
    "\n",
    "Between April 16 and 20, 2020 the [Institute of Governmental Studies (IGS)](https://www.igs.berkeley.edu), in conjunction with the [California Institute of Health Equity and Action(Cal-IHEA)](https://publichealth.berkeley.edu/research/centers/california-initiative-for-health-equity-action), polled 8,800 registered voters about a variety of issues concerning the current state of politics and COVID-19.  This was an unprecendented and urgently needed pulse-taking of the California populace during the pandemic. \n",
    "\n",
    "Below we provide an overview of the IGS Poll and describe how key findings from this survey can be found in the **IGS Poll Reports** while the data itself is made available by the **D-Lab**.\n",
    "\n",
    "We then provide a short tutorial on how to access and explore the IGS Poll data in Python.\n",
    "\n",
    "## Introduction\n",
    "\n",
    "### About The IGS Poll\n",
    "\n",
    "The [Berkeley IGS Poll](https://www.igs.berkeley.edu/research/berkeley-igs-poll) is a periodic survey of California public opinion on important matters of politics, public policy, and public issues. The poll, which is disseminated widely, seeks to provide a broad measure of contemporary public opinion, and to generate data for subsequent scholarly analysis. IGS Polls have been distributed 2-4 times per year since 2015. \n",
    "\n",
    "The IGS Polls continue the tradition of the California Field Polls. The Field Poll, or the California Poll, was established in 1947 by [Mervin Field](https://en.wikipedia.org/wiki/Mervin_Field) and operated continuously as an independent, non-partisan, media-sponsored public opinion news service from 1946 - 2014. Prior to their discontinuation, IGS collaborated with the Field Poll on a number of polls in 2011 and 2012.\n",
    "\n",
    "\n",
    "### IGS Poll Reports\n",
    "IGS researchers analyze the reponses from each survey and publish summary reports of key findings. Typically many reports are produced per survey. Recent IGS Poll reports can be downloaded from [eScholarship](https://escholarship.org/uc/igs_poll). You can stay abreast of new IGS Polls and reports by using the form on the IGS website to join the [IGS mailing list](https://www.igs.berkeley.edu/about).\n",
    "\n",
    "### Accessing the IGS and Field Poll Data\n",
    "The [D-Lab](https://dlab.berkeley.edu) makes the IGS and Field Poll data available via [SDA](https://sda.berkeley.edu/). SDA, or `Survey Documentation and Analysis` is an online tool for survey data analysis that also provides a platform for managing the survey data files and related documentation and facilitating their download. SDA was developed at UC, Berkeley but since 2015 it has been managed and supported by the Institute for Scientific Analysis (ISA), a private, non-profit organization, under agreement with the University of California.\n",
    "\n",
    "A complete list of the IGS and Field polls that are accessible via SDA can be found on the [D-Lab Data California Polls webpage](https://dlab.berkeley.edu/data-resources/california-polls)."
   ]
  },
  {
   "cell_type": "markdown",
   "metadata": {},
   "source": [
    "# Tutorial\n",
    "\n",
    "In this section, we will show you how to download data from SDA and then import into Python for a little exploratory data analysis and map making!\n",
    "\n",
    "- [Access Survey Data in SDA ](#access-sda)\n",
    "- [Download Survey Data from SDA](#download-sda)\n",
    "- [Working with IGS Poll Data in Python](#igs-python)\n",
    "- [Creating Tables from IGS Poll Data](#igs-tables)\n",
    "- [Mapping IGS Poll Data with Geopandas](#igs-maps)\n",
    "- [Making reusable code](#reusable-code)"
   ]
  },
  {
   "cell_type": "markdown",
   "metadata": {},
   "source": [
    "### Import python libraries\n",
    "\n",
    "Before we get into the weeds, let's import the libraries we will use."
   ]
  },
  {
   "cell_type": "code",
   "execution_count": 1,
   "metadata": {},
   "outputs": [],
   "source": [
    "import numpy as np\n",
    "import pandas as pd\n",
    "\n",
    "import matplotlib # primary python plotting library\n",
    "%matplotlib inline  \n",
    "import matplotlib.pyplot as plt # more plotting stuff\n",
    "\n",
    "import requests \n",
    "from urllib.request import urlopen, Request\n",
    "\n",
    "import json # for working with JSON data\n",
    "import geojson # ditto for GeoJSON data - an extension of JSON with support for geographic data\n",
    "import geopandas as gpd # THE python package for working with vector geospatial data\n",
    "\n",
    "import pyreadstat # for working with proprietary statistical software data formats\n"
   ]
  },
  {
   "cell_type": "markdown",
   "metadata": {},
   "source": [
    "<a id=\"access-sda\"></a>\n",
    "## Accessing a Survey in SDA\n",
    "\n",
    "The SDA tool can be used to access the IGS COVID-19 Poll data from April 2020 as well as any other IGS Poll data. If we check the D-Lab California Poll page, we see that the SDA URL for this poll is https://sda.berkeley.edu/sdaweb/analysis/?dataset=IGS_2020_03\n",
    "\n",
    "Clicking that link opens the SDA landing page for the survey which contains a number of tools for online analysis as well as a left-side panel describing the available variables. The [SDA Help link](https://sda.berkeley.edu/sdaweb/helpfiles/help.htm) provides documentation for doing online analysis.\n",
    "\n",
    "> Take a minute to notice the buttons for `downloading the data` or `a custom subset` and for accessing the `codebook (metadata)` both of which are highlighted in the screenshot below."
   ]
  },
  {
   "cell_type": "markdown",
   "metadata": {},
   "source": [
    "<img src=\"images/poll1.png\">"
   ]
  },
  {
   "cell_type": "markdown",
   "metadata": {},
   "source": [
    "<a id=\"download-sda\"></a>\n",
    "## Downloading Data from SDA\n",
    "\n",
    "If you click on the `Download Static Files` link you will be able to download the IGS Poll data as a fixed-width text file by clicking on the **Data file** button.  To make sense of that file you need to download a data definition file as well."
   ]
  },
  {
   "cell_type": "markdown",
   "metadata": {},
   "source": [
    "<img src=\"images/poll2.png\">"
   ]
  },
  {
   "cell_type": "markdown",
   "metadata": {},
   "source": [
    "The **DDI data definitions** file is a `XML` file that uses the open-source [Data Documentation Initiative](https://en.wikipedia.org/wiki/Data_Documentation_Initiative) specification for survey metadata. You can use the DDI file with the data file to read the data directly into Python. However, this method requires knowledge of reading in fixed width files and extracting structured data from an XML file.\n",
    "\n",
    "Alternatively, you can download a software specific `data definition file` that allows you to import the data into statistical software like `SPSS` or `Stata`. "
   ]
  },
  {
   "cell_type": "markdown",
   "metadata": {},
   "source": [
    "### Download SDA File for SPSS \n",
    "\n",
    "For this tutorial go ahead and download the IGS Poll data in SDA so that you can import it in SPSS and then save it as a `*.SAV` file. \n",
    "\n",
    "1. Download the `Data File`\n",
    "1. Download the `SPSS data definition file`\n",
    "1. Download the `codebook`\n",
    "\n",
    "Follow the instructions in this [online PDF](http://web.pdx.edu/~stipakb/download/Data/SDA_data_to_SPSS.pdf) to import into the data and ddl file into SPSS and save as an SPSS `sav` file. You can search online for other documentation on process.\n"
   ]
  },
  {
   "cell_type": "markdown",
   "metadata": {},
   "source": [
    "<a id=\"igs-python\"></a>\n",
    "## Working with the IGS Poll Data in Python\n",
    "\n",
    "\n",
    "If you want to read in a proprietary statistical data file (SPSS or SAS etc) into Python you can use the [pyreadstat](https://github.com/Roche/pyreadstat) package or similar. This process is detailed in the excellent blogpost [How To Analyze Survey Data With Python](https://towardsdatascience.com/how-to-analyze-survey-data-with-python-84eff9cc9568), by Benedikt Droste (7/21/2019). \n",
    "\n",
    "We will draw from and expand the work in that blog post below.\n",
    "\n",
    "###  Read in SPSS file\n",
    "\n",
    "Use `pyreadstat.read_sav` to read in the SPSS file created from the SDA output. As you recall SDA produced a data file and a data definition file (DDL). The contents of both of these are in the SPSS sav file `igs-covid-poll-april2020_withlabels.sav`. When we read this file in the function returns both a pandas dataframe (df) from the data file and a metadata object from the DDL file.\n",
    "\n",
    "> **Follow along**: The notebook and data for this tutorial can be found [here](https://github.com/dlab-geo/igspoll-processing-in-python)."
   ]
  },
  {
   "cell_type": "code",
   "execution_count": 2,
   "metadata": {},
   "outputs": [],
   "source": [
    "# Read in the data into df and the detailed column metadata into meta\n",
    "df, meta = pyreadstat.read_sav('data/igs-covid-poll-april2020_withlabels.sav')"
   ]
  },
  {
   "cell_type": "markdown",
   "metadata": {},
   "source": [
    "First, take a look at the dataframe"
   ]
  },
  {
   "cell_type": "code",
   "execution_count": 3,
   "metadata": {},
   "outputs": [
    {
     "data": {
      "text/html": [
       "<div>\n",
       "<style scoped>\n",
       "    .dataframe tbody tr th:only-of-type {\n",
       "        vertical-align: middle;\n",
       "    }\n",
       "\n",
       "    .dataframe tbody tr th {\n",
       "        vertical-align: top;\n",
       "    }\n",
       "\n",
       "    .dataframe thead th {\n",
       "        text-align: right;\n",
       "    }\n",
       "</style>\n",
       "<table border=\"1\" class=\"dataframe\">\n",
       "  <thead>\n",
       "    <tr style=\"text-align: right;\">\n",
       "      <th></th>\n",
       "      <th>CASEID</th>\n",
       "      <th>lang</th>\n",
       "      <th>consent</th>\n",
       "      <th>q1</th>\n",
       "      <th>q2</th>\n",
       "      <th>q3</th>\n",
       "      <th>q4_1</th>\n",
       "      <th>q4_1_20_text</th>\n",
       "      <th>q4_2</th>\n",
       "      <th>q4_2_20_text</th>\n",
       "      <th>...</th>\n",
       "      <th>q65</th>\n",
       "      <th>q66</th>\n",
       "      <th>q67</th>\n",
       "      <th>party</th>\n",
       "      <th>f20</th>\n",
       "      <th>rzip</th>\n",
       "      <th>age_group</th>\n",
       "      <th>county</th>\n",
       "      <th>region</th>\n",
       "      <th>w1</th>\n",
       "    </tr>\n",
       "  </thead>\n",
       "  <tbody>\n",
       "    <tr>\n",
       "      <th>0</th>\n",
       "      <td>1.0</td>\n",
       "      <td>1.0</td>\n",
       "      <td>1.0</td>\n",
       "      <td>42.0</td>\n",
       "      <td>1.0</td>\n",
       "      <td>4</td>\n",
       "      <td>NA</td>\n",
       "      <td></td>\n",
       "      <td>NA</td>\n",
       "      <td></td>\n",
       "      <td>...</td>\n",
       "      <td>2</td>\n",
       "      <td>9</td>\n",
       "      <td>2</td>\n",
       "      <td>D</td>\n",
       "      <td>A</td>\n",
       "      <td>94706.0</td>\n",
       "      <td>x36_45</td>\n",
       "      <td>alameda</td>\n",
       "      <td>bay area</td>\n",
       "      <td>0.571025</td>\n",
       "    </tr>\n",
       "    <tr>\n",
       "      <th>1</th>\n",
       "      <td>2.0</td>\n",
       "      <td>1.0</td>\n",
       "      <td>1.0</td>\n",
       "      <td>30.0</td>\n",
       "      <td>1.0</td>\n",
       "      <td>1</td>\n",
       "      <td>13</td>\n",
       "      <td></td>\n",
       "      <td>NA</td>\n",
       "      <td></td>\n",
       "      <td>...</td>\n",
       "      <td>2</td>\n",
       "      <td>5</td>\n",
       "      <td>9</td>\n",
       "      <td>D</td>\n",
       "      <td>P</td>\n",
       "      <td>94610.0</td>\n",
       "      <td>x26_35</td>\n",
       "      <td>alameda</td>\n",
       "      <td>bay area</td>\n",
       "      <td>0.395032</td>\n",
       "    </tr>\n",
       "    <tr>\n",
       "      <th>2</th>\n",
       "      <td>3.0</td>\n",
       "      <td>1.0</td>\n",
       "      <td>1.0</td>\n",
       "      <td>31.0</td>\n",
       "      <td>1.0</td>\n",
       "      <td>1</td>\n",
       "      <td>1</td>\n",
       "      <td></td>\n",
       "      <td>NA</td>\n",
       "      <td></td>\n",
       "      <td>...</td>\n",
       "      <td>2</td>\n",
       "      <td>9</td>\n",
       "      <td>9</td>\n",
       "      <td>D</td>\n",
       "      <td>N</td>\n",
       "      <td>94609.0</td>\n",
       "      <td>x26_35</td>\n",
       "      <td>alameda</td>\n",
       "      <td>bay area</td>\n",
       "      <td>0.475997</td>\n",
       "    </tr>\n",
       "    <tr>\n",
       "      <th>3</th>\n",
       "      <td>4.0</td>\n",
       "      <td>1.0</td>\n",
       "      <td>1.0</td>\n",
       "      <td>33.0</td>\n",
       "      <td>1.0</td>\n",
       "      <td>1</td>\n",
       "      <td>20</td>\n",
       "      <td>tech ops</td>\n",
       "      <td>NA</td>\n",
       "      <td></td>\n",
       "      <td>...</td>\n",
       "      <td>2</td>\n",
       "      <td>5</td>\n",
       "      <td>10</td>\n",
       "      <td>D</td>\n",
       "      <td>A</td>\n",
       "      <td>94608.0</td>\n",
       "      <td>x26_35</td>\n",
       "      <td>alameda</td>\n",
       "      <td>bay area</td>\n",
       "      <td>0.565656</td>\n",
       "    </tr>\n",
       "    <tr>\n",
       "      <th>4</th>\n",
       "      <td>5.0</td>\n",
       "      <td>1.0</td>\n",
       "      <td>1.0</td>\n",
       "      <td>37.0</td>\n",
       "      <td>1.0</td>\n",
       "      <td>1</td>\n",
       "      <td>14</td>\n",
       "      <td></td>\n",
       "      <td>NA</td>\n",
       "      <td></td>\n",
       "      <td>...</td>\n",
       "      <td>1</td>\n",
       "      <td>9</td>\n",
       "      <td>9</td>\n",
       "      <td>D</td>\n",
       "      <td>A</td>\n",
       "      <td>94605.0</td>\n",
       "      <td>x36_45</td>\n",
       "      <td>alameda</td>\n",
       "      <td>bay area</td>\n",
       "      <td>0.398781</td>\n",
       "    </tr>\n",
       "  </tbody>\n",
       "</table>\n",
       "<p>5 rows × 145 columns</p>\n",
       "</div>"
      ],
      "text/plain": [
       "   CASEID  lang  consent    q1   q2 q3 q4_1 q4_1_20_text q4_2 q4_2_20_text  \\\n",
       "0     1.0   1.0      1.0  42.0  1.0  4   NA                NA                \n",
       "1     2.0   1.0      1.0  30.0  1.0  1   13                NA                \n",
       "2     3.0   1.0      1.0  31.0  1.0  1    1                NA                \n",
       "3     4.0   1.0      1.0  33.0  1.0  1   20     tech ops   NA                \n",
       "4     5.0   1.0      1.0  37.0  1.0  1   14                NA                \n",
       "\n",
       "   ... q65 q66 q67 party f20     rzip age_group   county    region        w1  \n",
       "0  ...   2   9   2     D   A  94706.0    x36_45  alameda  bay area  0.571025  \n",
       "1  ...   2   5   9     D   P  94610.0    x26_35  alameda  bay area  0.395032  \n",
       "2  ...   2   9   9     D   N  94609.0    x26_35  alameda  bay area  0.475997  \n",
       "3  ...   2   5  10     D   A  94608.0    x26_35  alameda  bay area  0.565656  \n",
       "4  ...   1   9   9     D   A  94605.0    x36_45  alameda  bay area  0.398781  \n",
       "\n",
       "[5 rows x 145 columns]"
      ]
     },
     "execution_count": 3,
     "metadata": {},
     "output_type": "execute_result"
    }
   ],
   "source": [
    "df.head()"
   ]
  },
  {
   "cell_type": "markdown",
   "metadata": {},
   "source": [
    "The **meta** object is a `pyreadstat` object that contains, among other things:\n",
    "\n",
    "- `meta.column_names` - A list of the column names \n",
    "\n",
    "\n",
    "- `meta.column_labels` - A list of the descriptive column labels\n",
    "\n",
    "\n",
    "- `meta.variable_value_labels` - a dict of dicts - column name keys and a mapping of response codes and values."
   ]
  },
  {
   "cell_type": "code",
   "execution_count": 4,
   "metadata": {},
   "outputs": [
    {
     "data": {
      "text/plain": [
       "['CASEID',\n",
       " 'lang',\n",
       " 'consent',\n",
       " 'q1',\n",
       " 'q2',\n",
       " 'q3',\n",
       " 'q4_1',\n",
       " 'q4_1_20_text',\n",
       " 'q4_2',\n",
       " 'q4_2_20_text']"
      ]
     },
     "execution_count": 4,
     "metadata": {},
     "output_type": "execute_result"
    }
   ],
   "source": [
    "# Take a look at the first ten values of\n",
    "# meta.column_names - A list of the column names\n",
    "meta.column_names[0:10]"
   ]
  },
  {
   "cell_type": "code",
   "execution_count": 5,
   "metadata": {},
   "outputs": [
    {
     "data": {
      "text/plain": [
       "['ID',\n",
       " 'Language of survey',\n",
       " 'Consent',\n",
       " 'Q1 What is your age?',\n",
       " 'Q2 What county do you reside in?',\n",
       " 'Q3 Are you currently working?',\n",
       " 'Q4_1 In what industry do you work?',\n",
       " 'Q4_1 In what industry do you work - other text input',\n",
       " 'Q4_2 In what industry were you most recently employed?',\n",
       " 'Q4_2 In what industry were you most recently employed - other text input']"
      ]
     },
     "execution_count": 5,
     "metadata": {},
     "output_type": "execute_result"
    }
   ],
   "source": [
    "# Take a look at the first ten values of\n",
    "# meta.column_labels - A list of the descriptive column labels\n",
    "meta.column_labels[0:10]"
   ]
  },
  {
   "cell_type": "code",
   "execution_count": 6,
   "metadata": {},
   "outputs": [
    {
     "data": {
      "text/plain": [
       "{'1': 'Yes', '2': 'No, Unemployed', '3': 'No, Retired', '4': 'No, Student'}"
      ]
     },
     "execution_count": 6,
     "metadata": {},
     "output_type": "execute_result"
    }
   ],
   "source": [
    "# Take a look at an example dict from\n",
    "# meta.variable_value_labels\n",
    "meta.variable_value_labels['q3']"
   ]
  },
  {
   "cell_type": "markdown",
   "metadata": {},
   "source": [
    "For convenience, let's read the two column lists into one `meta_dict` so that we can easily retrieve the column label from the column name.\n",
    "\n",
    "Let's also create a shorter alias `response_dict` for the variable value labels dict of dicts."
   ]
  },
  {
   "cell_type": "code",
   "execution_count": 7,
   "metadata": {},
   "outputs": [],
   "source": [
    "# convert metato a dictionary of column name and label pairs\n",
    "meta_dict =     dict(zip(meta.column_names, meta.column_labels))\n",
    "response_dict =  meta.variable_value_labels"
   ]
  },
  {
   "cell_type": "markdown",
   "metadata": {},
   "source": [
    "As an example of how we would use this, let's get the full text label for the column named `Q23`."
   ]
  },
  {
   "cell_type": "code",
   "execution_count": 8,
   "metadata": {},
   "outputs": [
    {
     "data": {
      "text/plain": [
       "'Q23 To what extent do you agree or disagree with the following statement: A single-payer health care system, such as... would improve the nation’s ability to respond to disasters and pandemics such as COVID-19.'"
      ]
     },
     "execution_count": 8,
     "metadata": {},
     "output_type": "execute_result"
    }
   ],
   "source": [
    "meta_dict['q23']"
   ]
  },
  {
   "cell_type": "markdown",
   "metadata": {},
   "source": [
    "Wow, that's a long column label! Given this we won't replace the column names with the descriptive column labels. Instead we will just fetch them from the meta_dict when we need them.  \n",
    "\n",
    "\n",
    "Now let's look at the range of responses for this question.\n",
    "- This will display the code and the label for the response."
   ]
  },
  {
   "cell_type": "code",
   "execution_count": 9,
   "metadata": {},
   "outputs": [
    {
     "data": {
      "text/plain": [
       "{'1': 'Strongly Agree',\n",
       " '2': 'Somewhat Agree',\n",
       " '3': 'Neither agree nor disagree',\n",
       " '4': 'Somewhat Disagree',\n",
       " '5': 'Strongly Disagree'}"
      ]
     },
     "execution_count": 9,
     "metadata": {},
     "output_type": "execute_result"
    }
   ],
   "source": [
    "response_dict['q23']"
   ]
  },
  {
   "cell_type": "markdown",
   "metadata": {},
   "source": [
    "You can use a `list comprehension` to quickly search the meta_dict for columns (key) whose descriptive labels (val) have a specific string.\n",
    "\n",
    "For example, let's identify columns that might relate to `health care`."
   ]
  },
  {
   "cell_type": "code",
   "execution_count": 10,
   "metadata": {},
   "outputs": [
    {
     "data": {
      "text/plain": [
       "[('q10_5',\n",
       "  'Q10_5 To what extent is COVID-19 a threat to your personal / family health?'),\n",
       " ('q19_1_6',\n",
       "  'Q19_6 In your opinion, how effective are the following for preventing a person from getting COVID-19: Eating a healthy diet'),\n",
       " ('q23',\n",
       "  'Q23 To what extent do you agree or disagree with the following statement: A single-payer health care system, such as... would improve the nation’s ability to respond to disasters and pandemics such as COVID-19.'),\n",
       " ('q25_4',\n",
       "  'Q25_4 To what extent do you trust the following entities to provide accurate information about COVID-19: State and local public health agencies (state and/or local health department)'),\n",
       " ('q25_5',\n",
       "  'Q25_5 To what extent do you trust the following entities to provide accurate information about COVID-19: World Health Organization (WHO)'),\n",
       " ('q25_7',\n",
       "  'Q25_7 To what extent do you trust the following entities to provide accurate information about COVID-19: My personal physician/health care provider'),\n",
       " ('q31_8',\n",
       "  'Q31_8 To what extent do you think each of the following is responsible for the COVID-19 pandemic and shortage of tests and medical supplies: World Health Organization / Other international agencies'),\n",
       " ('q31_9',\n",
       "  'Q31_9 To what extent do you think each of the following is responsible for the COVID-19 pandemic and shortage of tests and medical supplies: Healthcare providers and systems'),\n",
       " ('q33',\n",
       "  'Q33 Over the past 12 months, how many months did you have health insurance coverage?')]"
      ]
     },
     "execution_count": 10,
     "metadata": {},
     "output_type": "execute_result"
    }
   ],
   "source": [
    "#Search for questions that mention masks\n",
    "[(key, val) for key, val in meta_dict.items() if 'health' in val.lower()]"
   ]
  },
  {
   "cell_type": "markdown",
   "metadata": {},
   "source": [
    "> That's pretty handy! But you should always refer back to the `codebook` you downloaded from SDA if one was available."
   ]
  },
  {
   "cell_type": "markdown",
   "metadata": {},
   "source": [
    "Let's take a deep dive into **Q23** since the results for this question were summarized in the IGS Poll Report:\n",
    "\n",
    "> Mora, G., Schickler, E., Haro, A., & Rodriguez, H. (2020). Release #2020-10: Support for a Single-Payer Health Care System to Address Disasters & Pandemics. UC Berkeley: Institute of Governmental Studies. Retrieved from https://escholarship.org/uc/item/1n25x39s"
   ]
  },
  {
   "cell_type": "code",
   "execution_count": 11,
   "metadata": {},
   "outputs": [
    {
     "data": {
      "text/plain": [
       "'Q23 To what extent do you agree or disagree with the following statement: A single-payer health care system, such as... would improve the nation’s ability to respond to disasters and pandemics such as COVID-19.'"
      ]
     },
     "execution_count": 11,
     "metadata": {},
     "output_type": "execute_result"
    }
   ],
   "source": [
    "meta_dict['q23']"
   ]
  },
  {
   "cell_type": "markdown",
   "metadata": {},
   "source": [
    "If we look at the `value_counts` for this column we get the distribution of counts across the response options."
   ]
  },
  {
   "cell_type": "code",
   "execution_count": 12,
   "metadata": {},
   "outputs": [
    {
     "data": {
      "text/plain": [
       "1     3533\n",
       "2     1776\n",
       "5     1600\n",
       "3     1321\n",
       "4      551\n",
       "NA       4\n",
       "Name: q23, dtype: int64"
      ]
     },
     "execution_count": 12,
     "metadata": {},
     "output_type": "execute_result"
    }
   ],
   "source": [
    "df['q23'].value_counts(dropna=False)"
   ]
  },
  {
   "cell_type": "markdown",
   "metadata": {},
   "source": [
    "We can normalize the output of `value_counts` to get the proportion of responses for each value."
   ]
  },
  {
   "cell_type": "code",
   "execution_count": 13,
   "metadata": {},
   "outputs": [
    {
     "data": {
      "text/plain": [
       "1     0.402163\n",
       "2     0.202163\n",
       "5     0.182129\n",
       "3     0.150370\n",
       "4     0.062721\n",
       "NA    0.000455\n",
       "Name: q23, dtype: float64"
      ]
     },
     "execution_count": 13,
     "metadata": {},
     "output_type": "execute_result"
    }
   ],
   "source": [
    "df['q23'].value_counts(normalize=True)"
   ]
  },
  {
   "cell_type": "markdown",
   "metadata": {},
   "source": [
    "Now let's use the `response_dict` to display human readable response values."
   ]
  },
  {
   "cell_type": "code",
   "execution_count": 14,
   "metadata": {},
   "outputs": [
    {
     "data": {
      "text/plain": [
       "Strongly Agree                0.402346\n",
       "Somewhat Agree                0.202255\n",
       "Strongly Disagree             0.182212\n",
       "Neither agree nor disagree    0.150438\n",
       "Somewhat Disagree             0.062749\n",
       "Name: q23, dtype: float64"
      ]
     },
     "execution_count": 14,
     "metadata": {},
     "output_type": "execute_result"
    }
   ],
   "source": [
    "df['q23'].map(response_dict['q23']).value_counts(normalize=True)"
   ]
  },
  {
   "cell_type": "markdown",
   "metadata": {},
   "source": [
    "<a id=\"igs-tables\"></a>\n",
    "## Creating Tables from IGS Poll Data"
   ]
  },
  {
   "cell_type": "markdown",
   "metadata": {},
   "source": [
    "We can up our game by creating a `pandas crosstab` to see how the responses vary by another variable. Here let's consider the political party of the survey respondent, which is in `q9`."
   ]
  },
  {
   "cell_type": "code",
   "execution_count": 15,
   "metadata": {},
   "outputs": [
    {
     "data": {
      "text/plain": [
       "'Q9 Generally speaking in politics do you think of yourself as a Democrat, Republican, Independent or something else?'"
      ]
     },
     "execution_count": 15,
     "metadata": {},
     "output_type": "execute_result"
    }
   ],
   "source": [
    "meta_dict['q9']"
   ]
  },
  {
   "cell_type": "code",
   "execution_count": 16,
   "metadata": {},
   "outputs": [
    {
     "data": {
      "text/html": [
       "<div>\n",
       "<style scoped>\n",
       "    .dataframe tbody tr th:only-of-type {\n",
       "        vertical-align: middle;\n",
       "    }\n",
       "\n",
       "    .dataframe tbody tr th {\n",
       "        vertical-align: top;\n",
       "    }\n",
       "\n",
       "    .dataframe thead th {\n",
       "        text-align: right;\n",
       "    }\n",
       "</style>\n",
       "<table border=\"1\" class=\"dataframe\">\n",
       "  <thead>\n",
       "    <tr style=\"text-align: right;\">\n",
       "      <th>q9</th>\n",
       "      <th>1</th>\n",
       "      <th>2</th>\n",
       "      <th>3</th>\n",
       "      <th>4</th>\n",
       "      <th>NA</th>\n",
       "    </tr>\n",
       "    <tr>\n",
       "      <th>q23</th>\n",
       "      <th></th>\n",
       "      <th></th>\n",
       "      <th></th>\n",
       "      <th></th>\n",
       "      <th></th>\n",
       "    </tr>\n",
       "  </thead>\n",
       "  <tbody>\n",
       "    <tr>\n",
       "      <th>1</th>\n",
       "      <td>0.540479</td>\n",
       "      <td>0.070073</td>\n",
       "      <td>0.323103</td>\n",
       "      <td>0.453471</td>\n",
       "      <td>0.285714</td>\n",
       "    </tr>\n",
       "    <tr>\n",
       "      <th>2</th>\n",
       "      <td>0.257013</td>\n",
       "      <td>0.078102</td>\n",
       "      <td>0.188406</td>\n",
       "      <td>0.147710</td>\n",
       "      <td>0.000000</td>\n",
       "    </tr>\n",
       "    <tr>\n",
       "      <th>3</th>\n",
       "      <td>0.142759</td>\n",
       "      <td>0.138686</td>\n",
       "      <td>0.171355</td>\n",
       "      <td>0.147710</td>\n",
       "      <td>0.428571</td>\n",
       "    </tr>\n",
       "    <tr>\n",
       "      <th>4</th>\n",
       "      <td>0.039225</td>\n",
       "      <td>0.105109</td>\n",
       "      <td>0.086104</td>\n",
       "      <td>0.048744</td>\n",
       "      <td>0.000000</td>\n",
       "    </tr>\n",
       "    <tr>\n",
       "      <th>5</th>\n",
       "      <td>0.020296</td>\n",
       "      <td>0.608029</td>\n",
       "      <td>0.230179</td>\n",
       "      <td>0.202363</td>\n",
       "      <td>0.142857</td>\n",
       "    </tr>\n",
       "    <tr>\n",
       "      <th>NA</th>\n",
       "      <td>0.000228</td>\n",
       "      <td>0.000000</td>\n",
       "      <td>0.000853</td>\n",
       "      <td>0.000000</td>\n",
       "      <td>0.142857</td>\n",
       "    </tr>\n",
       "  </tbody>\n",
       "</table>\n",
       "</div>"
      ],
      "text/plain": [
       "q9          1         2         3         4        NA\n",
       "q23                                                  \n",
       "1    0.540479  0.070073  0.323103  0.453471  0.285714\n",
       "2    0.257013  0.078102  0.188406  0.147710  0.000000\n",
       "3    0.142759  0.138686  0.171355  0.147710  0.428571\n",
       "4    0.039225  0.105109  0.086104  0.048744  0.000000\n",
       "5    0.020296  0.608029  0.230179  0.202363  0.142857\n",
       "NA   0.000228  0.000000  0.000853  0.000000  0.142857"
      ]
     },
     "execution_count": 16,
     "metadata": {},
     "output_type": "execute_result"
    }
   ],
   "source": [
    "pd.crosstab(df['q23'], df['q9'], dropna=True, normalize='columns')"
   ]
  },
  {
   "cell_type": "markdown",
   "metadata": {},
   "source": [
    "Add we can pretty up the formatting of the output.."
   ]
  },
  {
   "cell_type": "code",
   "execution_count": 17,
   "metadata": {},
   "outputs": [
    {
     "data": {
      "text/html": [
       "<style  type=\"text/css\" >\n",
       "</style><table id=\"T_f7e70c5c_d6c7_11ea_9c91_186590d98dd5\" ><thead>    <tr>        <th class=\"index_name level0\" >q9</th>        <th class=\"col_heading level0 col0\" >1</th>        <th class=\"col_heading level0 col1\" >2</th>        <th class=\"col_heading level0 col2\" >3</th>        <th class=\"col_heading level0 col3\" >4</th>        <th class=\"col_heading level0 col4\" >NA</th>    </tr>    <tr>        <th class=\"index_name level0\" >q23</th>        <th class=\"blank\" ></th>        <th class=\"blank\" ></th>        <th class=\"blank\" ></th>        <th class=\"blank\" ></th>        <th class=\"blank\" ></th>    </tr></thead><tbody>\n",
       "                <tr>\n",
       "                        <th id=\"T_f7e70c5c_d6c7_11ea_9c91_186590d98dd5level0_row0\" class=\"row_heading level0 row0\" >1</th>\n",
       "                        <td id=\"T_f7e70c5c_d6c7_11ea_9c91_186590d98dd5row0_col0\" class=\"data row0 col0\" >0.54</td>\n",
       "                        <td id=\"T_f7e70c5c_d6c7_11ea_9c91_186590d98dd5row0_col1\" class=\"data row0 col1\" >0.07</td>\n",
       "                        <td id=\"T_f7e70c5c_d6c7_11ea_9c91_186590d98dd5row0_col2\" class=\"data row0 col2\" >0.32</td>\n",
       "                        <td id=\"T_f7e70c5c_d6c7_11ea_9c91_186590d98dd5row0_col3\" class=\"data row0 col3\" >0.45</td>\n",
       "                        <td id=\"T_f7e70c5c_d6c7_11ea_9c91_186590d98dd5row0_col4\" class=\"data row0 col4\" >0.29</td>\n",
       "            </tr>\n",
       "            <tr>\n",
       "                        <th id=\"T_f7e70c5c_d6c7_11ea_9c91_186590d98dd5level0_row1\" class=\"row_heading level0 row1\" >2</th>\n",
       "                        <td id=\"T_f7e70c5c_d6c7_11ea_9c91_186590d98dd5row1_col0\" class=\"data row1 col0\" >0.26</td>\n",
       "                        <td id=\"T_f7e70c5c_d6c7_11ea_9c91_186590d98dd5row1_col1\" class=\"data row1 col1\" >0.08</td>\n",
       "                        <td id=\"T_f7e70c5c_d6c7_11ea_9c91_186590d98dd5row1_col2\" class=\"data row1 col2\" >0.19</td>\n",
       "                        <td id=\"T_f7e70c5c_d6c7_11ea_9c91_186590d98dd5row1_col3\" class=\"data row1 col3\" >0.15</td>\n",
       "                        <td id=\"T_f7e70c5c_d6c7_11ea_9c91_186590d98dd5row1_col4\" class=\"data row1 col4\" >0.00</td>\n",
       "            </tr>\n",
       "            <tr>\n",
       "                        <th id=\"T_f7e70c5c_d6c7_11ea_9c91_186590d98dd5level0_row2\" class=\"row_heading level0 row2\" >3</th>\n",
       "                        <td id=\"T_f7e70c5c_d6c7_11ea_9c91_186590d98dd5row2_col0\" class=\"data row2 col0\" >0.14</td>\n",
       "                        <td id=\"T_f7e70c5c_d6c7_11ea_9c91_186590d98dd5row2_col1\" class=\"data row2 col1\" >0.14</td>\n",
       "                        <td id=\"T_f7e70c5c_d6c7_11ea_9c91_186590d98dd5row2_col2\" class=\"data row2 col2\" >0.17</td>\n",
       "                        <td id=\"T_f7e70c5c_d6c7_11ea_9c91_186590d98dd5row2_col3\" class=\"data row2 col3\" >0.15</td>\n",
       "                        <td id=\"T_f7e70c5c_d6c7_11ea_9c91_186590d98dd5row2_col4\" class=\"data row2 col4\" >0.43</td>\n",
       "            </tr>\n",
       "            <tr>\n",
       "                        <th id=\"T_f7e70c5c_d6c7_11ea_9c91_186590d98dd5level0_row3\" class=\"row_heading level0 row3\" >4</th>\n",
       "                        <td id=\"T_f7e70c5c_d6c7_11ea_9c91_186590d98dd5row3_col0\" class=\"data row3 col0\" >0.04</td>\n",
       "                        <td id=\"T_f7e70c5c_d6c7_11ea_9c91_186590d98dd5row3_col1\" class=\"data row3 col1\" >0.11</td>\n",
       "                        <td id=\"T_f7e70c5c_d6c7_11ea_9c91_186590d98dd5row3_col2\" class=\"data row3 col2\" >0.09</td>\n",
       "                        <td id=\"T_f7e70c5c_d6c7_11ea_9c91_186590d98dd5row3_col3\" class=\"data row3 col3\" >0.05</td>\n",
       "                        <td id=\"T_f7e70c5c_d6c7_11ea_9c91_186590d98dd5row3_col4\" class=\"data row3 col4\" >0.00</td>\n",
       "            </tr>\n",
       "            <tr>\n",
       "                        <th id=\"T_f7e70c5c_d6c7_11ea_9c91_186590d98dd5level0_row4\" class=\"row_heading level0 row4\" >5</th>\n",
       "                        <td id=\"T_f7e70c5c_d6c7_11ea_9c91_186590d98dd5row4_col0\" class=\"data row4 col0\" >0.02</td>\n",
       "                        <td id=\"T_f7e70c5c_d6c7_11ea_9c91_186590d98dd5row4_col1\" class=\"data row4 col1\" >0.61</td>\n",
       "                        <td id=\"T_f7e70c5c_d6c7_11ea_9c91_186590d98dd5row4_col2\" class=\"data row4 col2\" >0.23</td>\n",
       "                        <td id=\"T_f7e70c5c_d6c7_11ea_9c91_186590d98dd5row4_col3\" class=\"data row4 col3\" >0.20</td>\n",
       "                        <td id=\"T_f7e70c5c_d6c7_11ea_9c91_186590d98dd5row4_col4\" class=\"data row4 col4\" >0.14</td>\n",
       "            </tr>\n",
       "            <tr>\n",
       "                        <th id=\"T_f7e70c5c_d6c7_11ea_9c91_186590d98dd5level0_row5\" class=\"row_heading level0 row5\" >NA</th>\n",
       "                        <td id=\"T_f7e70c5c_d6c7_11ea_9c91_186590d98dd5row5_col0\" class=\"data row5 col0\" >0.00</td>\n",
       "                        <td id=\"T_f7e70c5c_d6c7_11ea_9c91_186590d98dd5row5_col1\" class=\"data row5 col1\" >0.00</td>\n",
       "                        <td id=\"T_f7e70c5c_d6c7_11ea_9c91_186590d98dd5row5_col2\" class=\"data row5 col2\" >0.00</td>\n",
       "                        <td id=\"T_f7e70c5c_d6c7_11ea_9c91_186590d98dd5row5_col3\" class=\"data row5 col3\" >0.00</td>\n",
       "                        <td id=\"T_f7e70c5c_d6c7_11ea_9c91_186590d98dd5row5_col4\" class=\"data row5 col4\" >0.14</td>\n",
       "            </tr>\n",
       "    </tbody></table>"
      ],
      "text/plain": [
       "<pandas.io.formats.style.Styler at 0x122545c10>"
      ]
     },
     "execution_count": 17,
     "metadata": {},
     "output_type": "execute_result"
    }
   ],
   "source": [
    "pd.crosstab(df['q23'], df['q9'], dropna=True, normalize='columns').style.format(\"{:0.2f}\")"
   ]
  },
  {
   "cell_type": "markdown",
   "metadata": {},
   "source": [
    "Above, we normalized by `column` so that the column values would add up to 1 (or 100% if converted to percents).\n",
    "\n",
    "\n",
    "Let's bring it home by adding pretty column labels and response labels."
   ]
  },
  {
   "cell_type": "code",
   "execution_count": 18,
   "metadata": {},
   "outputs": [
    {
     "data": {
      "text/html": [
       "<style  type=\"text/css\" >\n",
       "</style><table id=\"T_f7ec0220_d6c7_11ea_9c91_186590d98dd5\" ><thead>    <tr>        <th class=\"index_name level0\" >q9</th>        <th class=\"col_heading level0 col0\" >Democrat</th>        <th class=\"col_heading level0 col1\" >Independent</th>        <th class=\"col_heading level0 col2\" >Republican</th>        <th class=\"col_heading level0 col3\" >Something else</th>    </tr>    <tr>        <th class=\"index_name level0\" >q23</th>        <th class=\"blank\" ></th>        <th class=\"blank\" ></th>        <th class=\"blank\" ></th>        <th class=\"blank\" ></th>    </tr></thead><tbody>\n",
       "                <tr>\n",
       "                        <th id=\"T_f7ec0220_d6c7_11ea_9c91_186590d98dd5level0_row0\" class=\"row_heading level0 row0\" >Neither agree nor disagree</th>\n",
       "                        <td id=\"T_f7ec0220_d6c7_11ea_9c91_186590d98dd5row0_col0\" class=\"data row0 col0\" >0.14</td>\n",
       "                        <td id=\"T_f7ec0220_d6c7_11ea_9c91_186590d98dd5row0_col1\" class=\"data row0 col1\" >0.17</td>\n",
       "                        <td id=\"T_f7ec0220_d6c7_11ea_9c91_186590d98dd5row0_col2\" class=\"data row0 col2\" >0.14</td>\n",
       "                        <td id=\"T_f7ec0220_d6c7_11ea_9c91_186590d98dd5row0_col3\" class=\"data row0 col3\" >0.15</td>\n",
       "            </tr>\n",
       "            <tr>\n",
       "                        <th id=\"T_f7ec0220_d6c7_11ea_9c91_186590d98dd5level0_row1\" class=\"row_heading level0 row1\" >Somewhat Agree</th>\n",
       "                        <td id=\"T_f7ec0220_d6c7_11ea_9c91_186590d98dd5row1_col0\" class=\"data row1 col0\" >0.26</td>\n",
       "                        <td id=\"T_f7ec0220_d6c7_11ea_9c91_186590d98dd5row1_col1\" class=\"data row1 col1\" >0.19</td>\n",
       "                        <td id=\"T_f7ec0220_d6c7_11ea_9c91_186590d98dd5row1_col2\" class=\"data row1 col2\" >0.08</td>\n",
       "                        <td id=\"T_f7ec0220_d6c7_11ea_9c91_186590d98dd5row1_col3\" class=\"data row1 col3\" >0.15</td>\n",
       "            </tr>\n",
       "            <tr>\n",
       "                        <th id=\"T_f7ec0220_d6c7_11ea_9c91_186590d98dd5level0_row2\" class=\"row_heading level0 row2\" >Somewhat Disagree</th>\n",
       "                        <td id=\"T_f7ec0220_d6c7_11ea_9c91_186590d98dd5row2_col0\" class=\"data row2 col0\" >0.04</td>\n",
       "                        <td id=\"T_f7ec0220_d6c7_11ea_9c91_186590d98dd5row2_col1\" class=\"data row2 col1\" >0.09</td>\n",
       "                        <td id=\"T_f7ec0220_d6c7_11ea_9c91_186590d98dd5row2_col2\" class=\"data row2 col2\" >0.11</td>\n",
       "                        <td id=\"T_f7ec0220_d6c7_11ea_9c91_186590d98dd5row2_col3\" class=\"data row2 col3\" >0.05</td>\n",
       "            </tr>\n",
       "            <tr>\n",
       "                        <th id=\"T_f7ec0220_d6c7_11ea_9c91_186590d98dd5level0_row3\" class=\"row_heading level0 row3\" >Strongly Agree</th>\n",
       "                        <td id=\"T_f7ec0220_d6c7_11ea_9c91_186590d98dd5row3_col0\" class=\"data row3 col0\" >0.54</td>\n",
       "                        <td id=\"T_f7ec0220_d6c7_11ea_9c91_186590d98dd5row3_col1\" class=\"data row3 col1\" >0.32</td>\n",
       "                        <td id=\"T_f7ec0220_d6c7_11ea_9c91_186590d98dd5row3_col2\" class=\"data row3 col2\" >0.07</td>\n",
       "                        <td id=\"T_f7ec0220_d6c7_11ea_9c91_186590d98dd5row3_col3\" class=\"data row3 col3\" >0.45</td>\n",
       "            </tr>\n",
       "            <tr>\n",
       "                        <th id=\"T_f7ec0220_d6c7_11ea_9c91_186590d98dd5level0_row4\" class=\"row_heading level0 row4\" >Strongly Disagree</th>\n",
       "                        <td id=\"T_f7ec0220_d6c7_11ea_9c91_186590d98dd5row4_col0\" class=\"data row4 col0\" >0.02</td>\n",
       "                        <td id=\"T_f7ec0220_d6c7_11ea_9c91_186590d98dd5row4_col1\" class=\"data row4 col1\" >0.23</td>\n",
       "                        <td id=\"T_f7ec0220_d6c7_11ea_9c91_186590d98dd5row4_col2\" class=\"data row4 col2\" >0.61</td>\n",
       "                        <td id=\"T_f7ec0220_d6c7_11ea_9c91_186590d98dd5row4_col3\" class=\"data row4 col3\" >0.20</td>\n",
       "            </tr>\n",
       "    </tbody></table>"
      ],
      "text/plain": [
       "<pandas.io.formats.style.Styler at 0x122545590>"
      ]
     },
     "execution_count": 18,
     "metadata": {},
     "output_type": "execute_result"
    }
   ],
   "source": [
    "pd.crosstab(\n",
    "        df['q23'].map(response_dict['q23']), # The response values for q23 \n",
    "        df['q9'].map(response_dict['q9']),   # The response values for q9  \n",
    "        dropna=True, normalize='columns'). \\\n",
    "        style.format(\"{:0.2f}\")              # and format the output"
   ]
  },
  {
   "cell_type": "markdown",
   "metadata": {},
   "source": [
    "We can also reorder the rows so that they align with the original order of the responses.\n",
    "\n",
    "Let's do that and save the output to a dataframe named `q23_table`."
   ]
  },
  {
   "cell_type": "code",
   "execution_count": 19,
   "metadata": {},
   "outputs": [],
   "source": [
    "q23_table = pd.crosstab(\n",
    "        df['q23'].map(response_dict['q23']), # The response values for q23 \n",
    "        df['q9'].map(response_dict['q9']),   # The response values for q9  \n",
    "        dropna=True, normalize='columns').  \\\n",
    "        loc[response_dict['q23'].values()]. \\\n",
    "        loc[:,response_dict['q9'].values()] "
   ]
  },
  {
   "cell_type": "code",
   "execution_count": 20,
   "metadata": {},
   "outputs": [
    {
     "data": {
      "text/html": [
       "<div>\n",
       "<style scoped>\n",
       "    .dataframe tbody tr th:only-of-type {\n",
       "        vertical-align: middle;\n",
       "    }\n",
       "\n",
       "    .dataframe tbody tr th {\n",
       "        vertical-align: top;\n",
       "    }\n",
       "\n",
       "    .dataframe thead th {\n",
       "        text-align: right;\n",
       "    }\n",
       "</style>\n",
       "<table border=\"1\" class=\"dataframe\">\n",
       "  <thead>\n",
       "    <tr style=\"text-align: right;\">\n",
       "      <th>q9</th>\n",
       "      <th>Democrat</th>\n",
       "      <th>Republican</th>\n",
       "      <th>Independent</th>\n",
       "      <th>Something else</th>\n",
       "    </tr>\n",
       "    <tr>\n",
       "      <th>q23</th>\n",
       "      <th></th>\n",
       "      <th></th>\n",
       "      <th></th>\n",
       "      <th></th>\n",
       "    </tr>\n",
       "  </thead>\n",
       "  <tbody>\n",
       "    <tr>\n",
       "      <th>Strongly Agree</th>\n",
       "      <td>0.540602</td>\n",
       "      <td>0.070073</td>\n",
       "      <td>0.323379</td>\n",
       "      <td>0.453471</td>\n",
       "    </tr>\n",
       "    <tr>\n",
       "      <th>Somewhat Agree</th>\n",
       "      <td>0.257071</td>\n",
       "      <td>0.078102</td>\n",
       "      <td>0.188567</td>\n",
       "      <td>0.147710</td>\n",
       "    </tr>\n",
       "    <tr>\n",
       "      <th>Neither agree nor disagree</th>\n",
       "      <td>0.142792</td>\n",
       "      <td>0.138686</td>\n",
       "      <td>0.171502</td>\n",
       "      <td>0.147710</td>\n",
       "    </tr>\n",
       "    <tr>\n",
       "      <th>Somewhat Disagree</th>\n",
       "      <td>0.039234</td>\n",
       "      <td>0.105109</td>\n",
       "      <td>0.086177</td>\n",
       "      <td>0.048744</td>\n",
       "    </tr>\n",
       "    <tr>\n",
       "      <th>Strongly Disagree</th>\n",
       "      <td>0.020301</td>\n",
       "      <td>0.608029</td>\n",
       "      <td>0.230375</td>\n",
       "      <td>0.202363</td>\n",
       "    </tr>\n",
       "  </tbody>\n",
       "</table>\n",
       "</div>"
      ],
      "text/plain": [
       "q9                          Democrat  Republican  Independent  Something else\n",
       "q23                                                                          \n",
       "Strongly Agree              0.540602    0.070073     0.323379        0.453471\n",
       "Somewhat Agree              0.257071    0.078102     0.188567        0.147710\n",
       "Neither agree nor disagree  0.142792    0.138686     0.171502        0.147710\n",
       "Somewhat Disagree           0.039234    0.105109     0.086177        0.048744\n",
       "Strongly Disagree           0.020301    0.608029     0.230375        0.202363"
      ]
     },
     "execution_count": 20,
     "metadata": {},
     "output_type": "execute_result"
    }
   ],
   "source": [
    "q23_table"
   ]
  },
  {
   "cell_type": "markdown",
   "metadata": {},
   "source": [
    "Now that we have saved the table as a dataframe let's do a bit more reformatting."
   ]
  },
  {
   "cell_type": "code",
   "execution_count": 21,
   "metadata": {},
   "outputs": [
    {
     "data": {
      "text/html": [
       "<div>\n",
       "<style scoped>\n",
       "    .dataframe tbody tr th:only-of-type {\n",
       "        vertical-align: middle;\n",
       "    }\n",
       "\n",
       "    .dataframe tbody tr th {\n",
       "        vertical-align: top;\n",
       "    }\n",
       "\n",
       "    .dataframe thead th {\n",
       "        text-align: right;\n",
       "    }\n",
       "</style>\n",
       "<table border=\"1\" class=\"dataframe\">\n",
       "  <thead>\n",
       "    <tr style=\"text-align: right;\">\n",
       "      <th></th>\n",
       "      <th></th>\n",
       "      <th>Democrat</th>\n",
       "      <th>Republican</th>\n",
       "      <th>Independent</th>\n",
       "      <th>Something else</th>\n",
       "    </tr>\n",
       "  </thead>\n",
       "  <tbody>\n",
       "    <tr>\n",
       "      <th>0</th>\n",
       "      <td>Strongly Agree</td>\n",
       "      <td>54.06</td>\n",
       "      <td>7.01</td>\n",
       "      <td>32.34</td>\n",
       "      <td>45.35</td>\n",
       "    </tr>\n",
       "    <tr>\n",
       "      <th>1</th>\n",
       "      <td>Somewhat Agree</td>\n",
       "      <td>25.71</td>\n",
       "      <td>7.81</td>\n",
       "      <td>18.86</td>\n",
       "      <td>14.77</td>\n",
       "    </tr>\n",
       "    <tr>\n",
       "      <th>2</th>\n",
       "      <td>Neither agree nor disagree</td>\n",
       "      <td>14.28</td>\n",
       "      <td>13.87</td>\n",
       "      <td>17.15</td>\n",
       "      <td>14.77</td>\n",
       "    </tr>\n",
       "    <tr>\n",
       "      <th>3</th>\n",
       "      <td>Somewhat Disagree</td>\n",
       "      <td>3.92</td>\n",
       "      <td>10.51</td>\n",
       "      <td>8.62</td>\n",
       "      <td>4.87</td>\n",
       "    </tr>\n",
       "    <tr>\n",
       "      <th>4</th>\n",
       "      <td>Strongly Disagree</td>\n",
       "      <td>2.03</td>\n",
       "      <td>60.80</td>\n",
       "      <td>23.04</td>\n",
       "      <td>20.24</td>\n",
       "    </tr>\n",
       "  </tbody>\n",
       "</table>\n",
       "</div>"
      ],
      "text/plain": [
       "                               Democrat  Republican  Independent  \\\n",
       "0              Strongly Agree     54.06        7.01        32.34   \n",
       "1              Somewhat Agree     25.71        7.81        18.86   \n",
       "2  Neither agree nor disagree     14.28       13.87        17.15   \n",
       "3           Somewhat Disagree      3.92       10.51         8.62   \n",
       "4           Strongly Disagree      2.03       60.80        23.04   \n",
       "\n",
       "   Something else  \n",
       "0           45.35  \n",
       "1           14.77  \n",
       "2           14.77  \n",
       "3            4.87  \n",
       "4           20.24  "
      ]
     },
     "execution_count": 21,
     "metadata": {},
     "output_type": "execute_result"
    }
   ],
   "source": [
    "# Since all the row values are numeric let's convert to percents and round\n",
    "q23_table = round(q23_table*100, 2)\n",
    "\n",
    "# Move the responses to a column instead of an index\n",
    "q23_table.reset_index(inplace=True)\n",
    "\n",
    "# Remove the name of the column - set to empty string\n",
    "q23_table.rename(columns={'q23':''},inplace=True)\n",
    "\n",
    "# Rename the axis to default value of none\n",
    "q23_table.rename_axis(None, inplace=True, axis=1)\n",
    "\n",
    "# Take a look\n",
    "q23_table"
   ]
  },
  {
   "cell_type": "markdown",
   "metadata": {},
   "source": [
    "Let's see how that output compares to **Table 1** of the IGS Report:\n",
    "> Mora, G., Schickler, E., Haro, A., & Rodriguez, H. (2020). Release #2020-10: Support for a Single-Payer Health Care System to Address Disasters & Pandemics. UC Berkeley: Institute of Governmental Studies. Retrieved from https://escholarship.org/uc/item/1n25x39s\n",
    "\n",
    "> <img src=\"images/Table1.png\" width=\"75%\" align=\"left\"></img>\n"
   ]
  },
  {
   "cell_type": "markdown",
   "metadata": {},
   "source": [
    "You can see that our values do not match. This is because we are not including the survey weights.\n",
    "\n",
    "Let's weight the values, which are in the column `w1`, and then compare the tables again."
   ]
  },
  {
   "cell_type": "code",
   "execution_count": 22,
   "metadata": {},
   "outputs": [
    {
     "data": {
      "text/html": [
       "<div>\n",
       "<style scoped>\n",
       "    .dataframe tbody tr th:only-of-type {\n",
       "        vertical-align: middle;\n",
       "    }\n",
       "\n",
       "    .dataframe tbody tr th {\n",
       "        vertical-align: top;\n",
       "    }\n",
       "\n",
       "    .dataframe thead th {\n",
       "        text-align: right;\n",
       "    }\n",
       "</style>\n",
       "<table border=\"1\" class=\"dataframe\">\n",
       "  <thead>\n",
       "    <tr style=\"text-align: right;\">\n",
       "      <th></th>\n",
       "      <th></th>\n",
       "      <th>Democrat</th>\n",
       "      <th>Republican</th>\n",
       "      <th>Independent</th>\n",
       "      <th>Something else</th>\n",
       "    </tr>\n",
       "  </thead>\n",
       "  <tbody>\n",
       "    <tr>\n",
       "      <th>0</th>\n",
       "      <td>Strongly Agree</td>\n",
       "      <td>51.60</td>\n",
       "      <td>7.73</td>\n",
       "      <td>29.82</td>\n",
       "      <td>38.64</td>\n",
       "    </tr>\n",
       "    <tr>\n",
       "      <th>1</th>\n",
       "      <td>Somewhat Agree</td>\n",
       "      <td>24.82</td>\n",
       "      <td>8.40</td>\n",
       "      <td>19.98</td>\n",
       "      <td>17.15</td>\n",
       "    </tr>\n",
       "    <tr>\n",
       "      <th>2</th>\n",
       "      <td>Neither agree nor disagree</td>\n",
       "      <td>17.07</td>\n",
       "      <td>14.47</td>\n",
       "      <td>18.21</td>\n",
       "      <td>17.85</td>\n",
       "    </tr>\n",
       "    <tr>\n",
       "      <th>3</th>\n",
       "      <td>Somewhat Disagree</td>\n",
       "      <td>3.97</td>\n",
       "      <td>10.10</td>\n",
       "      <td>8.93</td>\n",
       "      <td>3.78</td>\n",
       "    </tr>\n",
       "    <tr>\n",
       "      <th>4</th>\n",
       "      <td>Strongly Disagree</td>\n",
       "      <td>2.54</td>\n",
       "      <td>59.30</td>\n",
       "      <td>23.07</td>\n",
       "      <td>22.58</td>\n",
       "    </tr>\n",
       "  </tbody>\n",
       "</table>\n",
       "</div>"
      ],
      "text/plain": [
       "                               Democrat  Republican  Independent  \\\n",
       "0              Strongly Agree     51.60        7.73        29.82   \n",
       "1              Somewhat Agree     24.82        8.40        19.98   \n",
       "2  Neither agree nor disagree     17.07       14.47        18.21   \n",
       "3           Somewhat Disagree      3.97       10.10         8.93   \n",
       "4           Strongly Disagree      2.54       59.30        23.07   \n",
       "\n",
       "   Something else  \n",
       "0           38.64  \n",
       "1           17.15  \n",
       "2           17.85  \n",
       "3            3.78  \n",
       "4           22.58  "
      ]
     },
     "execution_count": 22,
     "metadata": {},
     "output_type": "execute_result"
    }
   ],
   "source": [
    "q23_table_weighted = pd.crosstab(\n",
    "        df['q23'].map(response_dict['q23']), # The response values for q23 \n",
    "        df['q9'].map(response_dict['q9']),   # The response values for q9  \n",
    "        df['w1'], aggfunc = sum,\n",
    "        dropna=True, normalize='columns').  \\\n",
    "        loc[response_dict['q23'].values()]. \\\n",
    "        loc[:,response_dict['q9'].values()] \n",
    "\n",
    "q23_table_weighted\n",
    "# Since all the row values are numeric let's convert to percents and round\n",
    "q23_table_weighted = round(q23_table_weighted*100, 2)\n",
    "\n",
    "# Move the responses to a column instead of an index\n",
    "q23_table_weighted.reset_index(inplace=True)\n",
    "\n",
    "# Remove the name of the column - set to empty string\n",
    "q23_table_weighted.rename(columns={'q23':''},inplace=True)\n",
    "\n",
    "\n",
    "# Rename the axis to default value of none\n",
    "q23_table_weighted.rename_axis(None, inplace=True, axis=1)\n",
    "\n",
    "# Take a look\n",
    "q23_table_weighted"
   ]
  },
  {
   "cell_type": "markdown",
   "metadata": {},
   "source": [
    "Now we have matching output!"
   ]
  },
  {
   "cell_type": "markdown",
   "metadata": {},
   "source": [
    "<a id=\"igs-maps\"></a>\n",
    "## Mapping IGS Poll Data\n",
    "\n",
    "In the next section of our tutorial we will show you how to map the survey response data.\n",
    "\n",
    "For this, we will:\n",
    "\n",
    "- Read in the USA County cartography boundary file from the Census website.\n",
    "- Subset it to include only California Counties\n",
    "- Subset the survey data to keep only `q23` responses by `q2` - which is the respondent's county.\n",
    "- Join the survey subset to the county data\n",
    "- Map it.\n",
    "\n",
    "We will use the `Geopandas` library to work with and map the geographic data."
   ]
  },
  {
   "cell_type": "markdown",
   "metadata": {},
   "source": [
    "Fetch the county boundary data and take a look."
   ]
  },
  {
   "cell_type": "code",
   "execution_count": 23,
   "metadata": {},
   "outputs": [
    {
     "data": {
      "text/plain": [
       "<matplotlib.axes._subplots.AxesSubplot at 0x122421750>"
      ]
     },
     "execution_count": 23,
     "metadata": {},
     "output_type": "execute_result"
    },
    {
     "data": {
      "image/png": "[encoded data removed]",
      "text/plain": [
       "<Figure size 432x288 with 1 Axes>"
      ]
     },
     "metadata": {
      "needs_background": "light"
     },
     "output_type": "display_data"
    }
   ],
   "source": [
    "counties = \"https://www2.census.gov/geo/tiger/GENZ2019/shp/cb_2019_us_county_500k.zip\"\n",
    "counties = gpd.read_file(counties)\n",
    "counties.plot()"
   ]
  },
  {
   "cell_type": "markdown",
   "metadata": {},
   "source": [
    "Take a look at the county data so we can find a column on which to subset by state."
   ]
  },
  {
   "cell_type": "code",
   "execution_count": 24,
   "metadata": {},
   "outputs": [
    {
     "data": {
      "text/html": [
       "<div>\n",
       "<style scoped>\n",
       "    .dataframe tbody tr th:only-of-type {\n",
       "        vertical-align: middle;\n",
       "    }\n",
       "\n",
       "    .dataframe tbody tr th {\n",
       "        vertical-align: top;\n",
       "    }\n",
       "\n",
       "    .dataframe thead th {\n",
       "        text-align: right;\n",
       "    }\n",
       "</style>\n",
       "<table border=\"1\" class=\"dataframe\">\n",
       "  <thead>\n",
       "    <tr style=\"text-align: right;\">\n",
       "      <th></th>\n",
       "      <th>STATEFP</th>\n",
       "      <th>COUNTYFP</th>\n",
       "      <th>COUNTYNS</th>\n",
       "      <th>AFFGEOID</th>\n",
       "      <th>GEOID</th>\n",
       "      <th>NAME</th>\n",
       "      <th>LSAD</th>\n",
       "      <th>ALAND</th>\n",
       "      <th>AWATER</th>\n",
       "      <th>geometry</th>\n",
       "    </tr>\n",
       "  </thead>\n",
       "  <tbody>\n",
       "    <tr>\n",
       "      <th>0</th>\n",
       "      <td>48</td>\n",
       "      <td>081</td>\n",
       "      <td>01383826</td>\n",
       "      <td>0500000US48081</td>\n",
       "      <td>48081</td>\n",
       "      <td>Coke</td>\n",
       "      <td>06</td>\n",
       "      <td>2361153195</td>\n",
       "      <td>42331832</td>\n",
       "      <td>POLYGON ((-100.82497 31.74941, -100.82415 31.8...</td>\n",
       "    </tr>\n",
       "    <tr>\n",
       "      <th>1</th>\n",
       "      <td>48</td>\n",
       "      <td>273</td>\n",
       "      <td>01383922</td>\n",
       "      <td>0500000US48273</td>\n",
       "      <td>48273</td>\n",
       "      <td>Kleberg</td>\n",
       "      <td>06</td>\n",
       "      <td>2282572445</td>\n",
       "      <td>541041659</td>\n",
       "      <td>MULTIPOLYGON (((-97.31780 27.49456, -97.31590 ...</td>\n",
       "    </tr>\n",
       "    <tr>\n",
       "      <th>2</th>\n",
       "      <td>48</td>\n",
       "      <td>203</td>\n",
       "      <td>01383887</td>\n",
       "      <td>0500000US48203</td>\n",
       "      <td>48203</td>\n",
       "      <td>Harrison</td>\n",
       "      <td>06</td>\n",
       "      <td>2331138836</td>\n",
       "      <td>40651525</td>\n",
       "      <td>POLYGON ((-94.70215 32.45618, -94.70197 32.467...</td>\n",
       "    </tr>\n",
       "    <tr>\n",
       "      <th>3</th>\n",
       "      <td>48</td>\n",
       "      <td>223</td>\n",
       "      <td>01383897</td>\n",
       "      <td>0500000US48223</td>\n",
       "      <td>48223</td>\n",
       "      <td>Hopkins</td>\n",
       "      <td>06</td>\n",
       "      <td>1987629163</td>\n",
       "      <td>65639829</td>\n",
       "      <td>POLYGON ((-95.86333 33.04989, -95.86302 33.065...</td>\n",
       "    </tr>\n",
       "    <tr>\n",
       "      <th>4</th>\n",
       "      <td>48</td>\n",
       "      <td>033</td>\n",
       "      <td>01383802</td>\n",
       "      <td>0500000US48033</td>\n",
       "      <td>48033</td>\n",
       "      <td>Borden</td>\n",
       "      <td>06</td>\n",
       "      <td>2324366073</td>\n",
       "      <td>22297606</td>\n",
       "      <td>POLYGON ((-101.69128 32.96184, -101.55743 32.9...</td>\n",
       "    </tr>\n",
       "  </tbody>\n",
       "</table>\n",
       "</div>"
      ],
      "text/plain": [
       "  STATEFP COUNTYFP  COUNTYNS        AFFGEOID  GEOID      NAME LSAD  \\\n",
       "0      48      081  01383826  0500000US48081  48081      Coke   06   \n",
       "1      48      273  01383922  0500000US48273  48273   Kleberg   06   \n",
       "2      48      203  01383887  0500000US48203  48203  Harrison   06   \n",
       "3      48      223  01383897  0500000US48223  48223   Hopkins   06   \n",
       "4      48      033  01383802  0500000US48033  48033    Borden   06   \n",
       "\n",
       "        ALAND     AWATER                                           geometry  \n",
       "0  2361153195   42331832  POLYGON ((-100.82497 31.74941, -100.82415 31.8...  \n",
       "1  2282572445  541041659  MULTIPOLYGON (((-97.31780 27.49456, -97.31590 ...  \n",
       "2  2331138836   40651525  POLYGON ((-94.70215 32.45618, -94.70197 32.467...  \n",
       "3  1987629163   65639829  POLYGON ((-95.86333 33.04989, -95.86302 33.065...  \n",
       "4  2324366073   22297606  POLYGON ((-101.69128 32.96184, -101.55743 32.9...  "
      ]
     },
     "execution_count": 24,
     "metadata": {},
     "output_type": "execute_result"
    }
   ],
   "source": [
    "counties.head()"
   ]
  },
  {
   "cell_type": "markdown",
   "metadata": {},
   "source": [
    "Use the California state fips code **06*8 to subset the county data."
   ]
  },
  {
   "cell_type": "code",
   "execution_count": 25,
   "metadata": {},
   "outputs": [],
   "source": [
    "counties = counties[counties['STATEFP']=='06'].reset_index(drop=True)"
   ]
  },
  {
   "cell_type": "code",
   "execution_count": 26,
   "metadata": {},
   "outputs": [
    {
     "data": {
      "text/plain": [
       "<matplotlib.axes._subplots.AxesSubplot at 0x1239df3d0>"
      ]
     },
     "execution_count": 26,
     "metadata": {},
     "output_type": "execute_result"
    },
    {
     "data": {
      "image/png": "[encoded data removed]",
      "text/plain": [
       "<Figure size 432x288 with 1 Axes>"
      ]
     },
     "metadata": {
      "needs_background": "light"
     },
     "output_type": "display_data"
    }
   ],
   "source": [
    "counties.plot()"
   ]
  },
  {
   "cell_type": "code",
   "execution_count": 27,
   "metadata": {},
   "outputs": [
    {
     "data": {
      "text/html": [
       "<div>\n",
       "<style scoped>\n",
       "    .dataframe tbody tr th:only-of-type {\n",
       "        vertical-align: middle;\n",
       "    }\n",
       "\n",
       "    .dataframe tbody tr th {\n",
       "        vertical-align: top;\n",
       "    }\n",
       "\n",
       "    .dataframe thead th {\n",
       "        text-align: right;\n",
       "    }\n",
       "</style>\n",
       "<table border=\"1\" class=\"dataframe\">\n",
       "  <thead>\n",
       "    <tr style=\"text-align: right;\">\n",
       "      <th></th>\n",
       "      <th>STATEFP</th>\n",
       "      <th>COUNTYFP</th>\n",
       "      <th>COUNTYNS</th>\n",
       "      <th>AFFGEOID</th>\n",
       "      <th>GEOID</th>\n",
       "      <th>NAME</th>\n",
       "      <th>LSAD</th>\n",
       "      <th>ALAND</th>\n",
       "      <th>AWATER</th>\n",
       "      <th>geometry</th>\n",
       "    </tr>\n",
       "  </thead>\n",
       "  <tbody>\n",
       "    <tr>\n",
       "      <th>0</th>\n",
       "      <td>06</td>\n",
       "      <td>001</td>\n",
       "      <td>01675839</td>\n",
       "      <td>0500000US06001</td>\n",
       "      <td>06001</td>\n",
       "      <td>Alameda</td>\n",
       "      <td>06</td>\n",
       "      <td>1909614756</td>\n",
       "      <td>216907015</td>\n",
       "      <td>POLYGON ((-122.34225 37.80556, -122.33412 37.8...</td>\n",
       "    </tr>\n",
       "    <tr>\n",
       "      <th>1</th>\n",
       "      <td>06</td>\n",
       "      <td>061</td>\n",
       "      <td>00277295</td>\n",
       "      <td>0500000US06061</td>\n",
       "      <td>06061</td>\n",
       "      <td>Placer</td>\n",
       "      <td>06</td>\n",
       "      <td>3644306246</td>\n",
       "      <td>246466620</td>\n",
       "      <td>POLYGON ((-121.48444 38.75135, -121.46980 38.7...</td>\n",
       "    </tr>\n",
       "    <tr>\n",
       "      <th>2</th>\n",
       "      <td>06</td>\n",
       "      <td>037</td>\n",
       "      <td>00277283</td>\n",
       "      <td>0500000US06037</td>\n",
       "      <td>06037</td>\n",
       "      <td>Los Angeles</td>\n",
       "      <td>06</td>\n",
       "      <td>10511861492</td>\n",
       "      <td>1793485467</td>\n",
       "      <td>MULTIPOLYGON (((-118.60442 33.47855, -118.5987...</td>\n",
       "    </tr>\n",
       "    <tr>\n",
       "      <th>3</th>\n",
       "      <td>06</td>\n",
       "      <td>095</td>\n",
       "      <td>00277312</td>\n",
       "      <td>0500000US06095</td>\n",
       "      <td>06095</td>\n",
       "      <td>Solano</td>\n",
       "      <td>06</td>\n",
       "      <td>2128488719</td>\n",
       "      <td>218671901</td>\n",
       "      <td>POLYGON ((-122.40348 38.15546, -122.38027 38.1...</td>\n",
       "    </tr>\n",
       "    <tr>\n",
       "      <th>4</th>\n",
       "      <td>06</td>\n",
       "      <td>093</td>\n",
       "      <td>00277311</td>\n",
       "      <td>0500000US06093</td>\n",
       "      <td>06093</td>\n",
       "      <td>Siskiyou</td>\n",
       "      <td>06</td>\n",
       "      <td>16261933244</td>\n",
       "      <td>179149815</td>\n",
       "      <td>POLYGON ((-123.71845 41.59796, -123.71880 41.5...</td>\n",
       "    </tr>\n",
       "  </tbody>\n",
       "</table>\n",
       "</div>"
      ],
      "text/plain": [
       "  STATEFP COUNTYFP  COUNTYNS        AFFGEOID  GEOID         NAME LSAD  \\\n",
       "0      06      001  01675839  0500000US06001  06001      Alameda   06   \n",
       "1      06      061  00277295  0500000US06061  06061       Placer   06   \n",
       "2      06      037  00277283  0500000US06037  06037  Los Angeles   06   \n",
       "3      06      095  00277312  0500000US06095  06095       Solano   06   \n",
       "4      06      093  00277311  0500000US06093  06093     Siskiyou   06   \n",
       "\n",
       "         ALAND      AWATER                                           geometry  \n",
       "0   1909614756   216907015  POLYGON ((-122.34225 37.80556, -122.33412 37.8...  \n",
       "1   3644306246   246466620  POLYGON ((-121.48444 38.75135, -121.46980 38.7...  \n",
       "2  10511861492  1793485467  MULTIPOLYGON (((-118.60442 33.47855, -118.5987...  \n",
       "3   2128488719   218671901  POLYGON ((-122.40348 38.15546, -122.38027 38.1...  \n",
       "4  16261933244   179149815  POLYGON ((-123.71845 41.59796, -123.71880 41.5...  "
      ]
     },
     "execution_count": 27,
     "metadata": {},
     "output_type": "execute_result"
    }
   ],
   "source": [
    "counties.head()"
   ]
  },
  {
   "cell_type": "markdown",
   "metadata": {},
   "source": [
    "Take a look at the `q2` descriptive label."
   ]
  },
  {
   "cell_type": "code",
   "execution_count": 28,
   "metadata": {},
   "outputs": [
    {
     "data": {
      "text/plain": [
       "'Q2 What county do you reside in?'"
      ]
     },
     "execution_count": 28,
     "metadata": {},
     "output_type": "execute_result"
    }
   ],
   "source": [
    "meta_dict['q2']"
   ]
  },
  {
   "cell_type": "markdown",
   "metadata": {},
   "source": [
    "Take a look at the set of responses for this question."
   ]
  },
  {
   "cell_type": "code",
   "execution_count": 29,
   "metadata": {},
   "outputs": [
    {
     "data": {
      "text/plain": [
       "{1.0: 'Alameda',\n",
       " 2.0: 'Alpine',\n",
       " 3.0: 'Amador',\n",
       " 4.0: 'Butte',\n",
       " 5.0: 'Calaveras',\n",
       " 6.0: 'Colusa',\n",
       " 7.0: 'Contra Costa',\n",
       " 8.0: 'Del Norte',\n",
       " 9.0: 'El Dorado',\n",
       " 10.0: 'Fresno',\n",
       " 11.0: 'Glenn',\n",
       " 12.0: 'Humboldt',\n",
       " 13.0: 'Imperial',\n",
       " 14.0: 'Inyo',\n",
       " 15.0: 'Kern',\n",
       " 16.0: 'Kings',\n",
       " 17.0: 'Lake',\n",
       " 18.0: 'Lassen',\n",
       " 19.0: 'Los Angeles',\n",
       " 20.0: 'Madera',\n",
       " 21.0: 'Marin',\n",
       " 22.0: 'Mariposa',\n",
       " 23.0: 'Mendocino',\n",
       " 24.0: 'Merced',\n",
       " 25.0: 'Modoc',\n",
       " 26.0: 'Mono',\n",
       " 27.0: 'Monterey',\n",
       " 28.0: 'Napa',\n",
       " 29.0: 'Nevada',\n",
       " 30.0: 'Orange',\n",
       " 31.0: 'Placer',\n",
       " 32.0: 'Plumas',\n",
       " 33.0: 'Riverside',\n",
       " 34.0: 'Sacramento',\n",
       " 35.0: 'San Benito',\n",
       " 36.0: 'San Bernardino',\n",
       " 37.0: 'San Diego',\n",
       " 38.0: 'San Francisco',\n",
       " 39.0: 'San Joaquin',\n",
       " 40.0: 'San Luis Obispo',\n",
       " 41.0: 'San Mateo',\n",
       " 42.0: 'Santa Barbara',\n",
       " 43.0: 'Santa Clara',\n",
       " 44.0: 'Santa Cruz',\n",
       " 45.0: 'Shasta',\n",
       " 46.0: 'Sierra',\n",
       " 47.0: 'Siskiyou',\n",
       " 48.0: 'Solano',\n",
       " 49.0: 'Sonoma',\n",
       " 50.0: 'Stanislaus',\n",
       " 51.0: 'Sutter',\n",
       " 52.0: 'Tehama',\n",
       " 53.0: 'Trinity',\n",
       " 54.0: 'Tulare',\n",
       " 55.0: 'Tuolomne',\n",
       " 56.0: 'Ventura',\n",
       " 57.0: 'Yolo',\n",
       " 58.0: 'Yuba'}"
      ]
     },
     "execution_count": 29,
     "metadata": {},
     "output_type": "execute_result"
    }
   ],
   "source": [
    "response_dict['q2']"
   ]
  },
  {
   "cell_type": "markdown",
   "metadata": {},
   "source": [
    "Now we want to create the data that we wish to map using `pd.crosstab`.\n",
    "\n",
    "We want the responses to Question 23 (`q23`) as the columns and those for Q2-county (`q21`) as our rows. Thus the ouput will look a little different.\n",
    "\n",
    "> **IMPORTANT:** Because we want the values for q23 to sum to 1 (or 100 for percentages) for each county, we now want to `normalize` by rows (or **index**) not by column as we did previously."
   ]
  },
  {
   "cell_type": "code",
   "execution_count": 30,
   "metadata": {},
   "outputs": [
    {
     "data": {
      "text/html": [
       "<div>\n",
       "<style scoped>\n",
       "    .dataframe tbody tr th:only-of-type {\n",
       "        vertical-align: middle;\n",
       "    }\n",
       "\n",
       "    .dataframe tbody tr th {\n",
       "        vertical-align: top;\n",
       "    }\n",
       "\n",
       "    .dataframe thead th {\n",
       "        text-align: right;\n",
       "    }\n",
       "</style>\n",
       "<table border=\"1\" class=\"dataframe\">\n",
       "  <thead>\n",
       "    <tr style=\"text-align: right;\">\n",
       "      <th>q23</th>\n",
       "      <th>q2</th>\n",
       "      <th>Neither agree nor disagree</th>\n",
       "      <th>Somewhat Agree</th>\n",
       "      <th>Somewhat Disagree</th>\n",
       "      <th>Strongly Agree</th>\n",
       "      <th>Strongly Disagree</th>\n",
       "    </tr>\n",
       "  </thead>\n",
       "  <tbody>\n",
       "    <tr>\n",
       "      <th>0</th>\n",
       "      <td>Alameda</td>\n",
       "      <td>16.36</td>\n",
       "      <td>22.20</td>\n",
       "      <td>4.34</td>\n",
       "      <td>42.71</td>\n",
       "      <td>14.38</td>\n",
       "    </tr>\n",
       "    <tr>\n",
       "      <th>1</th>\n",
       "      <td>Amador</td>\n",
       "      <td>10.20</td>\n",
       "      <td>34.42</td>\n",
       "      <td>0.00</td>\n",
       "      <td>37.01</td>\n",
       "      <td>18.37</td>\n",
       "    </tr>\n",
       "    <tr>\n",
       "      <th>2</th>\n",
       "      <td>Butte</td>\n",
       "      <td>9.67</td>\n",
       "      <td>12.82</td>\n",
       "      <td>3.29</td>\n",
       "      <td>23.04</td>\n",
       "      <td>51.18</td>\n",
       "    </tr>\n",
       "    <tr>\n",
       "      <th>3</th>\n",
       "      <td>Calaveras</td>\n",
       "      <td>33.49</td>\n",
       "      <td>0.00</td>\n",
       "      <td>0.00</td>\n",
       "      <td>37.17</td>\n",
       "      <td>29.34</td>\n",
       "    </tr>\n",
       "    <tr>\n",
       "      <th>4</th>\n",
       "      <td>Colusa</td>\n",
       "      <td>0.00</td>\n",
       "      <td>0.00</td>\n",
       "      <td>13.86</td>\n",
       "      <td>86.14</td>\n",
       "      <td>0.00</td>\n",
       "    </tr>\n",
       "  </tbody>\n",
       "</table>\n",
       "</div>"
      ],
      "text/plain": [
       "q23         q2  Neither agree nor disagree  Somewhat Agree  Somewhat Disagree  \\\n",
       "0      Alameda                       16.36           22.20               4.34   \n",
       "1       Amador                       10.20           34.42               0.00   \n",
       "2        Butte                        9.67           12.82               3.29   \n",
       "3    Calaveras                       33.49            0.00               0.00   \n",
       "4       Colusa                        0.00            0.00              13.86   \n",
       "\n",
       "q23  Strongly Agree  Strongly Disagree  \n",
       "0             42.71              14.38  \n",
       "1             37.01              18.37  \n",
       "2             23.04              51.18  \n",
       "3             37.17              29.34  \n",
       "4             86.14               0.00  "
      ]
     },
     "execution_count": 30,
     "metadata": {},
     "output_type": "execute_result"
    }
   ],
   "source": [
    "# Need to set normalize to 'index' to get correct values by county\n",
    "q23_by_county = pd.crosstab(\n",
    "                    df['q2'].map(response_dict['q2']),  \n",
    "                    df['q23'].map(response_dict['q23']), \n",
    "                    df.w1, aggfunc = sum, dropna=True,  \n",
    "                    normalize='index')\n",
    "\n",
    "q23_by_county =  round(q23_by_county * 100, 2) # convert to percents and round\n",
    "q23_by_county.reset_index(inplace=True)\n",
    "\n",
    "q23_by_county.head()"
   ]
  },
  {
   "cell_type": "markdown",
   "metadata": {},
   "source": [
    "Next, we use the Geopandas `geodataframe merge` method to join the survey data to the county boundaries. \n",
    "\n",
    "- Our join values will be the county names which are in the `q2` column of the q23_by_county dataframe and in the `NAME` column of the counties geodataframe.\n",
    "- We do a \"left\" join to keep all the rows in the left table - here the `counties` geodataframe."
   ]
  },
  {
   "cell_type": "code",
   "execution_count": 31,
   "metadata": {},
   "outputs": [],
   "source": [
    "counties_q23 = counties.merge(q23_by_county, left_on=\"NAME\", right_on=\"q2\", how=\"left\")"
   ]
  },
  {
   "cell_type": "markdown",
   "metadata": {},
   "source": [
    "If you take a look at the output geodataframe you can see the responses to `q23` have been appended to the rows for each county."
   ]
  },
  {
   "cell_type": "code",
   "execution_count": 32,
   "metadata": {},
   "outputs": [
    {
     "data": {
      "text/html": [
       "<div>\n",
       "<style scoped>\n",
       "    .dataframe tbody tr th:only-of-type {\n",
       "        vertical-align: middle;\n",
       "    }\n",
       "\n",
       "    .dataframe tbody tr th {\n",
       "        vertical-align: top;\n",
       "    }\n",
       "\n",
       "    .dataframe thead th {\n",
       "        text-align: right;\n",
       "    }\n",
       "</style>\n",
       "<table border=\"1\" class=\"dataframe\">\n",
       "  <thead>\n",
       "    <tr style=\"text-align: right;\">\n",
       "      <th></th>\n",
       "      <th>STATEFP</th>\n",
       "      <th>COUNTYFP</th>\n",
       "      <th>COUNTYNS</th>\n",
       "      <th>AFFGEOID</th>\n",
       "      <th>GEOID</th>\n",
       "      <th>NAME</th>\n",
       "      <th>LSAD</th>\n",
       "      <th>ALAND</th>\n",
       "      <th>AWATER</th>\n",
       "      <th>geometry</th>\n",
       "      <th>q2</th>\n",
       "      <th>Neither agree nor disagree</th>\n",
       "      <th>Somewhat Agree</th>\n",
       "      <th>Somewhat Disagree</th>\n",
       "      <th>Strongly Agree</th>\n",
       "      <th>Strongly Disagree</th>\n",
       "    </tr>\n",
       "  </thead>\n",
       "  <tbody>\n",
       "    <tr>\n",
       "      <th>0</th>\n",
       "      <td>06</td>\n",
       "      <td>001</td>\n",
       "      <td>01675839</td>\n",
       "      <td>0500000US06001</td>\n",
       "      <td>06001</td>\n",
       "      <td>Alameda</td>\n",
       "      <td>06</td>\n",
       "      <td>1909614756</td>\n",
       "      <td>216907015</td>\n",
       "      <td>POLYGON ((-122.34225 37.80556, -122.33412 37.8...</td>\n",
       "      <td>Alameda</td>\n",
       "      <td>16.36</td>\n",
       "      <td>22.20</td>\n",
       "      <td>4.34</td>\n",
       "      <td>42.71</td>\n",
       "      <td>14.38</td>\n",
       "    </tr>\n",
       "    <tr>\n",
       "      <th>1</th>\n",
       "      <td>06</td>\n",
       "      <td>061</td>\n",
       "      <td>00277295</td>\n",
       "      <td>0500000US06061</td>\n",
       "      <td>06061</td>\n",
       "      <td>Placer</td>\n",
       "      <td>06</td>\n",
       "      <td>3644306246</td>\n",
       "      <td>246466620</td>\n",
       "      <td>POLYGON ((-121.48444 38.75135, -121.46980 38.7...</td>\n",
       "      <td>Placer</td>\n",
       "      <td>18.59</td>\n",
       "      <td>21.25</td>\n",
       "      <td>7.60</td>\n",
       "      <td>22.62</td>\n",
       "      <td>29.94</td>\n",
       "    </tr>\n",
       "    <tr>\n",
       "      <th>2</th>\n",
       "      <td>06</td>\n",
       "      <td>037</td>\n",
       "      <td>00277283</td>\n",
       "      <td>0500000US06037</td>\n",
       "      <td>06037</td>\n",
       "      <td>Los Angeles</td>\n",
       "      <td>06</td>\n",
       "      <td>10511861492</td>\n",
       "      <td>1793485467</td>\n",
       "      <td>MULTIPOLYGON (((-118.60442 33.47855, -118.5987...</td>\n",
       "      <td>Los Angeles</td>\n",
       "      <td>16.91</td>\n",
       "      <td>19.85</td>\n",
       "      <td>6.15</td>\n",
       "      <td>42.28</td>\n",
       "      <td>14.81</td>\n",
       "    </tr>\n",
       "    <tr>\n",
       "      <th>3</th>\n",
       "      <td>06</td>\n",
       "      <td>095</td>\n",
       "      <td>00277312</td>\n",
       "      <td>0500000US06095</td>\n",
       "      <td>06095</td>\n",
       "      <td>Solano</td>\n",
       "      <td>06</td>\n",
       "      <td>2128488719</td>\n",
       "      <td>218671901</td>\n",
       "      <td>POLYGON ((-122.40348 38.15546, -122.38027 38.1...</td>\n",
       "      <td>Solano</td>\n",
       "      <td>21.35</td>\n",
       "      <td>21.92</td>\n",
       "      <td>7.46</td>\n",
       "      <td>26.82</td>\n",
       "      <td>22.46</td>\n",
       "    </tr>\n",
       "    <tr>\n",
       "      <th>4</th>\n",
       "      <td>06</td>\n",
       "      <td>093</td>\n",
       "      <td>00277311</td>\n",
       "      <td>0500000US06093</td>\n",
       "      <td>06093</td>\n",
       "      <td>Siskiyou</td>\n",
       "      <td>06</td>\n",
       "      <td>16261933244</td>\n",
       "      <td>179149815</td>\n",
       "      <td>POLYGON ((-123.71845 41.59796, -123.71880 41.5...</td>\n",
       "      <td>Siskiyou</td>\n",
       "      <td>45.73</td>\n",
       "      <td>0.00</td>\n",
       "      <td>14.21</td>\n",
       "      <td>30.16</td>\n",
       "      <td>9.90</td>\n",
       "    </tr>\n",
       "  </tbody>\n",
       "</table>\n",
       "</div>"
      ],
      "text/plain": [
       "  STATEFP COUNTYFP  COUNTYNS        AFFGEOID  GEOID         NAME LSAD  \\\n",
       "0      06      001  01675839  0500000US06001  06001      Alameda   06   \n",
       "1      06      061  00277295  0500000US06061  06061       Placer   06   \n",
       "2      06      037  00277283  0500000US06037  06037  Los Angeles   06   \n",
       "3      06      095  00277312  0500000US06095  06095       Solano   06   \n",
       "4      06      093  00277311  0500000US06093  06093     Siskiyou   06   \n",
       "\n",
       "         ALAND      AWATER                                           geometry  \\\n",
       "0   1909614756   216907015  POLYGON ((-122.34225 37.80556, -122.33412 37.8...   \n",
       "1   3644306246   246466620  POLYGON ((-121.48444 38.75135, -121.46980 38.7...   \n",
       "2  10511861492  1793485467  MULTIPOLYGON (((-118.60442 33.47855, -118.5987...   \n",
       "3   2128488719   218671901  POLYGON ((-122.40348 38.15546, -122.38027 38.1...   \n",
       "4  16261933244   179149815  POLYGON ((-123.71845 41.59796, -123.71880 41.5...   \n",
       "\n",
       "            q2  Neither agree nor disagree  Somewhat Agree  Somewhat Disagree  \\\n",
       "0      Alameda                       16.36           22.20               4.34   \n",
       "1       Placer                       18.59           21.25               7.60   \n",
       "2  Los Angeles                       16.91           19.85               6.15   \n",
       "3       Solano                       21.35           21.92               7.46   \n",
       "4     Siskiyou                       45.73            0.00              14.21   \n",
       "\n",
       "   Strongly Agree  Strongly Disagree  \n",
       "0           42.71              14.38  \n",
       "1           22.62              29.94  \n",
       "2           42.28              14.81  \n",
       "3           26.82              22.46  \n",
       "4           30.16               9.90  "
      ]
     },
     "execution_count": 32,
     "metadata": {},
     "output_type": "execute_result"
    }
   ],
   "source": [
    "counties_q23.head()"
   ]
  },
  {
   "cell_type": "markdown",
   "metadata": {},
   "source": [
    "Now we will use `matplotlib` and `geopandas` to map of one column in the output table counties_q23: **Strongly Agree**, or the percent of those who strongly agree with the question."
   ]
  },
  {
   "cell_type": "code",
   "execution_count": 33,
   "metadata": {},
   "outputs": [
    {
     "data": {
      "image/png": "[encoded data removed]",
      "text/plain": [
       "<Figure size 576x720 with 1 Axes>"
      ]
     },
     "metadata": {
      "needs_background": "light"
     },
     "output_type": "display_data"
    }
   ],
   "source": [
    "fig, ax = plt.subplots(figsize = (8,10)) \n",
    "counties_q23.plot(column='Strongly Agree', \n",
    "                  scheme='user_defined',\n",
    "                  cmap=\"Reds\",\n",
    "                  edgecolor=\"grey\",\n",
    "                  classification_kwds={'bins':[10,20,30,40,50]},\n",
    "                  legend=True,\n",
    "                  legend_kwds={'title':'percent'},\n",
    "                  missing_kwds= dict(color = \"lightgrey\"),\n",
    "                  ax=ax)\n",
    "ax.set_title(\"Percent of Californians who strongly agree that a single-payer health care system,\\n such as Medicare-for-all in which all Americans would get their insurance from a single government\\n plan, would improve the nations ability to respond to disasters and pandemics such as COVID-19.\")\n",
    "plt.show()             "
   ]
  },
  {
   "cell_type": "markdown",
   "metadata": {},
   "source": [
    "That map reveals some potentially interesting regional differences that could be worth investigating further. They may also be an artifact of few survey responses in those particular counties."
   ]
  },
  {
   "cell_type": "markdown",
   "metadata": {},
   "source": [
    "<a id=\"reusable-code\"></a>\n",
    "## Making Reusable code\n",
    "\n",
    "Finally, we can leverage our code to create functions so that we can map any question response by county.\n",
    "\n",
    "> For those of you who work with geographic data, you will see that I added a named argument `map_crs` to the function with a default value for California. This allows one to set the map project of the output map to create a more custom look."
   ]
  },
  {
   "cell_type": "code",
   "execution_count": 34,
   "metadata": {},
   "outputs": [],
   "source": [
    "def make_county_map(gdf, column_name_str, title=\"no_title\", map_crs='epsg:3310'):\n",
    "    '''\n",
    "    Create a map by county of any column in a geodataframe\n",
    "    '''\n",
    "    fig, ax = plt.subplots(figsize = (8,10)) \n",
    "    gdf.to_crs(map_crs).plot(column=column_name_str, \n",
    "                  scheme='user_defined',\n",
    "                  cmap=\"Reds\",\n",
    "                  edgecolor=\"grey\",\n",
    "                  classification_kwds={'bins':[10,20,30,40,50]},\n",
    "                  legend=True,\n",
    "                  legend_kwds={'title':'percent'},\n",
    "                  missing_kwds= dict(color = \"lightgrey\"),\n",
    "                  ax=ax)\n",
    "    ax.set_title(title)\n",
    "    \n",
    "    # Remove axis clutter\n",
    "    ax.set_axis_off()\n",
    "plt.show()"
   ]
  },
  {
   "cell_type": "markdown",
   "metadata": {},
   "source": [
    "Test our function with the geodataframe and column we just used."
   ]
  },
  {
   "cell_type": "code",
   "execution_count": 35,
   "metadata": {},
   "outputs": [
    {
     "data": {
      "image/png": "[encoded data removed]",
      "text/plain": [
       "<Figure size 576x720 with 1 Axes>"
      ]
     },
     "metadata": {
      "needs_background": "light"
     },
     "output_type": "display_data"
    }
   ],
   "source": [
    "make_county_map(counties_q23,'Strongly Agree', 'Respondants who strongly agree with a Single-Payer System')"
   ]
  },
  {
   "cell_type": "markdown",
   "metadata": {},
   "source": [
    "Now let's create a function to create the geodataframe so we can make a map for any question-response pair."
   ]
  },
  {
   "cell_type": "code",
   "execution_count": 36,
   "metadata": {},
   "outputs": [],
   "source": [
    "def make_county_gdf(column_name_str):\n",
    "    \n",
    "    tempdf = pd.crosstab(\n",
    "                df['q2'].map(response_dict['q2']), \n",
    "                df[column_name_str].map(response_dict[column_name_str]), \n",
    "                df.w1, aggfunc = sum, dropna=True,\n",
    "                normalize='index')\n",
    "\n",
    "    tempdf =  round(tempdf * 100, 2) # convert to percents and round\n",
    "    tempdf.reset_index(inplace=True)\n",
    "    county_gdf = counties.merge(tempdf, left_on=\"NAME\", right_on=\"q2\", how=\"left\")\n",
    "    return county_gdf"
   ]
  },
  {
   "cell_type": "markdown",
   "metadata": {},
   "source": [
    "Let's map the percent of folks who responded that mask usage is very effective for preventing COVID-19.\n"
   ]
  },
  {
   "cell_type": "code",
   "execution_count": 37,
   "metadata": {},
   "outputs": [
    {
     "data": {
      "text/plain": [
       "[('q19_1_3',\n",
       "  'Q19_3 In your opinion, how effective are the following for preventing a person from getting COVID-19: Wearing a mask'),\n",
       " ('q19',\n",
       "  'Q19 To what extent do you agree or disagree with the following statement: My employer provides the personal protective equipment (PPE) that I need to do my job safely. For example, masks, gloves, etc.')]"
      ]
     },
     "execution_count": 37,
     "metadata": {},
     "output_type": "execute_result"
    }
   ],
   "source": [
    "# Search for questions that mention masks\n",
    "[(key, val) for key, val in meta_dict.items() if 'mask' in val.lower()]"
   ]
  },
  {
   "cell_type": "markdown",
   "metadata": {},
   "source": [
    "**q19_1_3** looks good. Let's take a look at the response values for that question."
   ]
  },
  {
   "cell_type": "code",
   "execution_count": 38,
   "metadata": {},
   "outputs": [
    {
     "data": {
      "text/plain": [
       "{'1': 'Extremely effective',\n",
       " '2': 'Somewhat effective',\n",
       " '3': 'Not effective at all',\n",
       " '4': 'Not sure'}"
      ]
     },
     "execution_count": 38,
     "metadata": {},
     "output_type": "execute_result"
    }
   ],
   "source": [
    "response_dict['q19_1_1']"
   ]
  },
  {
   "cell_type": "markdown",
   "metadata": {},
   "source": [
    "Let's map that!"
   ]
  },
  {
   "cell_type": "code",
   "execution_count": 39,
   "metadata": {},
   "outputs": [],
   "source": [
    "my_gdf = make_county_gdf('q19_1_3')"
   ]
  },
  {
   "cell_type": "code",
   "execution_count": 40,
   "metadata": {},
   "outputs": [
    {
     "data": {
      "image/png": "[encoded data removed]",
      "text/plain": [
       "<Figure size 576x720 with 1 Axes>"
      ]
     },
     "metadata": {
      "needs_background": "light"
     },
     "output_type": "display_data"
    }
   ],
   "source": [
    "make_county_map(my_gdf,'Extremely effective', 'Respondents who believe Masks to be Effective against COVID-19')"
   ]
  },
  {
   "cell_type": "markdown",
   "metadata": {},
   "source": [
    "That worked! Yeh.\n",
    "\n",
    "Now let's flip that so we can see the geographic distribution of responses where masks are thought to be not effective."
   ]
  },
  {
   "cell_type": "code",
   "execution_count": 41,
   "metadata": {},
   "outputs": [
    {
     "data": {
      "image/png": "[encoded data removed]",
      "text/plain": [
       "<Figure size 576x720 with 1 Axes>"
      ]
     },
     "metadata": {
      "needs_background": "light"
     },
     "output_type": "display_data"
    }
   ],
   "source": [
    "my_gdf = make_county_gdf('q19_1_3')\n",
    "make_county_map(my_gdf,'Not effective at all', 'Respondents who believe Masks are NOT effective against COVID-19')"
   ]
  },
  {
   "cell_type": "markdown",
   "metadata": {},
   "source": [
    "# Parting thoughts"
   ]
  },
  {
   "cell_type": "markdown",
   "metadata": {},
   "source": [
    "\n",
    "As you can see, there is a lot of interesting data collected by the IGS Polls and some great libraries for exploring these data in Python.  If you are interested in these data, sign up for the [IGS mailing list](https://www.igs.berkeley.edu/about)) and keep your eyes on the D-Lab California Polls web page(https://dlab.berkeley.edu/data-resources/california-polls).\n",
    "\n",
    "If you are looking to develop your data science skills, check out the [D-Lab web site](https://dlab.berkeley.edu/). Better yet, join our newsletter as well and stay abreast of the upcoming workshops as we get ready for the Fall 2020 semester."
   ]
  },
  {
   "cell_type": "code",
   "execution_count": null,
   "metadata": {},
   "outputs": [],
   "source": []
  }
 ],
 "metadata": {
  "kernelspec": {
   "display_name": "Python 3",
   "language": "python",
   "name": "python3"
  },
  "language_info": {
   "codemirror_mode": {
    "name": "ipython",
    "version": 3
   },
   "file_extension": ".py",
   "mimetype": "text/x-python",
   "name": "python",
   "nbconvert_exporter": "python",
   "pygments_lexer": "ipython3",
   "version": "3.7.6"
  }
 },
 "nbformat": 4,
 "nbformat_minor": 2
}
